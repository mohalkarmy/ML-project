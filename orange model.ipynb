{
 "cells": [
  {
   "cell_type": "markdown",
   "metadata": {},
   "source": [
    "<h1><strong>Orange fiber Churn Prediction</h1></strong>‏"
   ]
  },
  {
   "cell_type": "code",
   "execution_count": 1,
   "metadata": {
    "_cell_guid": "b1076dfc-b9ad-4769-8c92-a6c4dae69d19",
    "_uuid": "8f2839f25d086af736a60e9eeb907d3b93b6e0e5",
    "execution": {
     "iopub.execute_input": "2023-01-03T06:05:41.378622Z",
     "iopub.status.busy": "2023-01-03T06:05:41.378286Z",
     "iopub.status.idle": "2023-01-03T06:05:41.399200Z",
     "shell.execute_reply": "2023-01-03T06:05:41.398309Z",
     "shell.execute_reply.started": "2023-01-03T06:05:41.378592Z"
    },
    "id": "6GaCin8MSW7C"
   },
   "outputs": [],
   "source": [
    "#Cell No.1\n",
    "\n",
    "#Importing required libraries \n",
    "import pandas as pd\n",
    "import numpy as np\n",
    "import pickle \n",
    "from sklearn.preprocessing import *\n",
    "from sklearn.ensemble import * \n",
    "from sklearn.linear_model import LogisticRegression\n",
    "from sklearn.model_selection import *\n",
    "from sklearn import preprocessing\n",
    "from sklearn.feature_selection import SelectKBest\n",
    "from sklearn.utils import compute_class_weight\n",
    "from sklearn.feature_selection import chi2,mutual_info_classif\n",
    "from sklearn.metrics import classification_report\n",
    "from sklearn.metrics import accuracy_score,precision_score,roc_auc_score\n",
    "import warnings\n",
    "warnings.filterwarnings(\"ignore\")\n"
   ]
  },
  {
   "cell_type": "markdown",
   "metadata": {},
   "source": [
    "<h2><strong>Reading and Cleaning data</h2></strong>‏"
   ]
  },
  {
   "cell_type": "code",
   "execution_count": 2,
   "metadata": {
    "colab": {
     "base_uri": "https://localhost:8080/",
     "height": 317
    },
    "execution": {
     "iopub.execute_input": "2023-01-03T06:05:41.402352Z",
     "iopub.status.busy": "2023-01-03T06:05:41.401513Z",
     "iopub.status.idle": "2023-01-03T06:06:07.483026Z",
     "shell.execute_reply": "2023-01-03T06:06:07.482104Z",
     "shell.execute_reply.started": "2023-01-03T06:05:41.402318Z"
    },
    "id": "tfrYWHlLSW7D",
    "outputId": "4b2ab242-ebf4-4066-861b-36f370181af2"
   },
   "outputs": [
    {
     "data": {
      "text/html": [
       "<div>\n",
       "<style scoped>\n",
       "    .dataframe tbody tr th:only-of-type {\n",
       "        vertical-align: middle;\n",
       "    }\n",
       "\n",
       "    .dataframe tbody tr th {\n",
       "        vertical-align: top;\n",
       "    }\n",
       "\n",
       "    .dataframe thead th {\n",
       "        text-align: right;\n",
       "    }\n",
       "</style>\n",
       "<table border=\"1\" class=\"dataframe\">\n",
       "  <thead>\n",
       "    <tr style=\"text-align: right;\">\n",
       "      <th></th>\n",
       "      <th>ID</th>\n",
       "      <th>GOVERNORATE</th>\n",
       "      <th>Customer with orange_MONTHS</th>\n",
       "      <th>CUSTOMER_AGE_MONTHS</th>\n",
       "      <th>CUSTOMER_GENDER</th>\n",
       "      <th>COMMITMENT</th>\n",
       "      <th>COMMITMENT_FG</th>\n",
       "      <th>OF_SPEED</th>\n",
       "      <th>OF_PREV_SPEED</th>\n",
       "      <th>MIGRATION_FLAG</th>\n",
       "      <th>...</th>\n",
       "      <th>LAST_POWER_VALIDATION</th>\n",
       "      <th>LAST_LINK_PRIORITY</th>\n",
       "      <th>Disconnection_TOTAL_MAX_day</th>\n",
       "      <th>Disconnection_TOTAL_MIN_day</th>\n",
       "      <th>Disconnection_TOTAL_SUM_Month</th>\n",
       "      <th>Disconnection_TOTAL_MEAN_Month</th>\n",
       "      <th>GB_TOTAL_CONSUMPTION_Month1</th>\n",
       "      <th>GB_TOTAL_CONSUMPTION_Month2</th>\n",
       "      <th>GB_TOTAL_CONSUMPTION_Month3</th>\n",
       "      <th>TARGET</th>\n",
       "    </tr>\n",
       "  </thead>\n",
       "  <tbody>\n",
       "    <tr>\n",
       "      <th>0</th>\n",
       "      <td>1</td>\n",
       "      <td>West Amman</td>\n",
       "      <td>48.741935</td>\n",
       "      <td>567.677419</td>\n",
       "      <td>M</td>\n",
       "      <td>24</td>\n",
       "      <td>1</td>\n",
       "      <td>200</td>\n",
       "      <td>100.0</td>\n",
       "      <td>y</td>\n",
       "      <td>...</td>\n",
       "      <td>Abnormal</td>\n",
       "      <td>Regular</td>\n",
       "      <td>1.0</td>\n",
       "      <td>1.0</td>\n",
       "      <td>32.0</td>\n",
       "      <td>1.000000</td>\n",
       "      <td>645.685532</td>\n",
       "      <td>561.726552</td>\n",
       "      <td>519.477249</td>\n",
       "      <td>0</td>\n",
       "    </tr>\n",
       "    <tr>\n",
       "      <th>1</th>\n",
       "      <td>2</td>\n",
       "      <td>West Amman</td>\n",
       "      <td>44.838710</td>\n",
       "      <td>740.580645</td>\n",
       "      <td>M</td>\n",
       "      <td>24</td>\n",
       "      <td>0</td>\n",
       "      <td>100</td>\n",
       "      <td>100.0</td>\n",
       "      <td>y</td>\n",
       "      <td>...</td>\n",
       "      <td>None</td>\n",
       "      <td>Regular</td>\n",
       "      <td>1.0</td>\n",
       "      <td>1.0</td>\n",
       "      <td>4.0</td>\n",
       "      <td>1.000000</td>\n",
       "      <td>174.360611</td>\n",
       "      <td>159.508825</td>\n",
       "      <td>145.229521</td>\n",
       "      <td>0</td>\n",
       "    </tr>\n",
       "    <tr>\n",
       "      <th>2</th>\n",
       "      <td>3</td>\n",
       "      <td>West Amman</td>\n",
       "      <td>44.612903</td>\n",
       "      <td>531.096774</td>\n",
       "      <td>M</td>\n",
       "      <td>24</td>\n",
       "      <td>1</td>\n",
       "      <td>200</td>\n",
       "      <td>100.0</td>\n",
       "      <td>y</td>\n",
       "      <td>...</td>\n",
       "      <td>None</td>\n",
       "      <td>Regular</td>\n",
       "      <td>2.0</td>\n",
       "      <td>1.0</td>\n",
       "      <td>8.0</td>\n",
       "      <td>1.333333</td>\n",
       "      <td>299.379466</td>\n",
       "      <td>319.849905</td>\n",
       "      <td>257.353694</td>\n",
       "      <td>0</td>\n",
       "    </tr>\n",
       "    <tr>\n",
       "      <th>3</th>\n",
       "      <td>4</td>\n",
       "      <td>Balqa</td>\n",
       "      <td>43.741935</td>\n",
       "      <td>645.612903</td>\n",
       "      <td>M</td>\n",
       "      <td>24</td>\n",
       "      <td>0</td>\n",
       "      <td>200</td>\n",
       "      <td>100.0</td>\n",
       "      <td>y</td>\n",
       "      <td>...</td>\n",
       "      <td>None</td>\n",
       "      <td>Regular</td>\n",
       "      <td>1.0</td>\n",
       "      <td>1.0</td>\n",
       "      <td>6.0</td>\n",
       "      <td>1.000000</td>\n",
       "      <td>477.543451</td>\n",
       "      <td>791.806873</td>\n",
       "      <td>569.299840</td>\n",
       "      <td>0</td>\n",
       "    </tr>\n",
       "    <tr>\n",
       "      <th>4</th>\n",
       "      <td>5</td>\n",
       "      <td>West Amman</td>\n",
       "      <td>41.548387</td>\n",
       "      <td>311.774194</td>\n",
       "      <td>M</td>\n",
       "      <td>12</td>\n",
       "      <td>1</td>\n",
       "      <td>400</td>\n",
       "      <td>100.0</td>\n",
       "      <td>y</td>\n",
       "      <td>...</td>\n",
       "      <td>None</td>\n",
       "      <td>Regular</td>\n",
       "      <td>2.0</td>\n",
       "      <td>1.0</td>\n",
       "      <td>16.0</td>\n",
       "      <td>1.142857</td>\n",
       "      <td>891.318951</td>\n",
       "      <td>937.062921</td>\n",
       "      <td>791.050654</td>\n",
       "      <td>0</td>\n",
       "    </tr>\n",
       "  </tbody>\n",
       "</table>\n",
       "<p>5 rows × 22 columns</p>\n",
       "</div>"
      ],
      "text/plain": [
       "   ID GOVERNORATE  Customer with orange_MONTHS  CUSTOMER_AGE_MONTHS  \\\n",
       "0   1  West Amman                    48.741935           567.677419   \n",
       "1   2  West Amman                    44.838710           740.580645   \n",
       "2   3  West Amman                    44.612903           531.096774   \n",
       "3   4       Balqa                    43.741935           645.612903   \n",
       "4   5  West Amman                    41.548387           311.774194   \n",
       "\n",
       "  CUSTOMER_GENDER  COMMITMENT  COMMITMENT_FG  OF_SPEED  OF_PREV_SPEED  \\\n",
       "0               M          24              1       200          100.0   \n",
       "1               M          24              0       100          100.0   \n",
       "2               M          24              1       200          100.0   \n",
       "3               M          24              0       200          100.0   \n",
       "4               M          12              1       400          100.0   \n",
       "\n",
       "  MIGRATION_FLAG  ... LAST_POWER_VALIDATION LAST_LINK_PRIORITY  \\\n",
       "0              y  ...              Abnormal            Regular   \n",
       "1              y  ...                  None            Regular   \n",
       "2              y  ...                  None            Regular   \n",
       "3              y  ...                  None            Regular   \n",
       "4              y  ...                  None            Regular   \n",
       "\n",
       "  Disconnection_TOTAL_MAX_day Disconnection_TOTAL_MIN_day  \\\n",
       "0                         1.0                         1.0   \n",
       "1                         1.0                         1.0   \n",
       "2                         2.0                         1.0   \n",
       "3                         1.0                         1.0   \n",
       "4                         2.0                         1.0   \n",
       "\n",
       "   Disconnection_TOTAL_SUM_Month  Disconnection_TOTAL_MEAN_Month  \\\n",
       "0                           32.0                        1.000000   \n",
       "1                            4.0                        1.000000   \n",
       "2                            8.0                        1.333333   \n",
       "3                            6.0                        1.000000   \n",
       "4                           16.0                        1.142857   \n",
       "\n",
       "   GB_TOTAL_CONSUMPTION_Month1  GB_TOTAL_CONSUMPTION_Month2  \\\n",
       "0                   645.685532                   561.726552   \n",
       "1                   174.360611                   159.508825   \n",
       "2                   299.379466                   319.849905   \n",
       "3                   477.543451                   791.806873   \n",
       "4                   891.318951                   937.062921   \n",
       "\n",
       "   GB_TOTAL_CONSUMPTION_Month3  TARGET  \n",
       "0                   519.477249       0  \n",
       "1                   145.229521       0  \n",
       "2                   257.353694       0  \n",
       "3                   569.299840       0  \n",
       "4                   791.050654       0  \n",
       "\n",
       "[5 rows x 22 columns]"
      ]
     },
     "execution_count": 2,
     "metadata": {},
     "output_type": "execute_result"
    }
   ],
   "source": [
    "#Cell No.2\n",
    "\n",
    "#Reading data file(.xlsx)  \n",
    "fiber=pd.read_excel('FTTH-DataSet.xlsx')\n",
    "fiber.head()\n"
   ]
  },
  {
   "cell_type": "markdown",
   "metadata": {},
   "source": [
    "<h3><strong>Cleaning part</h3></strong>‏"
   ]
  },
  {
   "cell_type": "code",
   "execution_count": 3,
   "metadata": {
    "colab": {
     "base_uri": "https://localhost:8080/",
     "height": 505
    },
    "id": "F6vbvePrSW7E",
    "outputId": "8b26ed32-e361-44d2-e392-8d97dd4e753a"
   },
   "outputs": [],
   "source": [
    "#Cell No.3\n",
    "\n",
    "#Dropping some columns\n",
    "fiber=fiber.drop(['ID','LAST_LINK_PRIORITY','LAST_POWER_VALIDATION','CUSTOMER_AGE_MONTHS','CUSTOMER_GENDER','COMMITMENT',\n",
    "                 'LAST_LINK_QUALITY','LAST_LINK_STATUS','Disconnection_TOTAL_MAX_day','Disconnection_TOTAL_MIN_day',\n",
    "                 'GB_TOTAL_CONSUMPTION_Month2','GB_TOTAL_CONSUMPTION_Month3','Disconnection_TOTAL_MEAN_Month'],axis=1)\n"
   ]
  },
  {
   "cell_type": "code",
   "execution_count": 4,
   "metadata": {
    "id": "6AiCuankSW7F"
   },
   "outputs": [],
   "source": [
    "#Cell No.4\n",
    "\n",
    "#Filling null values with zeros \n",
    "cols_with_null_vals=['OF_PREV_SPEED']\n",
    "for i in cols_with_null_vals:\n",
    "    fiber[[i]]=fiber[[i]].fillna(0)\n",
    "fiber[['OF_PREV_SPEED']]= fiber[['OF_PREV_SPEED' ]].fillna(0)\n",
    "fiber[['GOVERNORATE']]=fiber[['GOVERNORATE']].fillna(method=\"bfill\")\n",
    "#Manual encoding for Migration flag columns\n",
    "fiber[\"MIGRATION_FLAG\"]=fiber[\"MIGRATION_FLAG\"].map({\"y\" :1 , \"n\" :0})\n",
    "\n",
    "fiber[['MIGRATION_FLAG']]= fiber[['MIGRATION_FLAG']].fillna(0)\n"
   ]
  },
  {
   "cell_type": "code",
   "execution_count": 5,
   "metadata": {
    "colab": {
     "base_uri": "https://localhost:8080/"
    },
    "execution": {
     "iopub.execute_input": "2023-01-03T06:06:07.484319Z",
     "iopub.status.busy": "2023-01-03T06:06:07.484056Z",
     "iopub.status.idle": "2023-01-03T06:06:07.504303Z",
     "shell.execute_reply": "2023-01-03T06:06:07.502954Z",
     "shell.execute_reply.started": "2023-01-03T06:06:07.484296Z"
    },
    "id": "HOmTZCE8SW7F",
    "outputId": "06b18d86-5177-4569-df2f-a87114abca1c"
   },
   "outputs": [
    {
     "data": {
      "text/plain": [
       "GOVERNORATE                      0\n",
       "Customer with orange_MONTHS      0\n",
       "COMMITMENT_FG                    0\n",
       "OF_SPEED                         0\n",
       "OF_PREV_SPEED                    0\n",
       "MIGRATION_FLAG                   0\n",
       "Disconnection_TOTAL_SUM_Month    0\n",
       "GB_TOTAL_CONSUMPTION_Month1      0\n",
       "TARGET                           0\n",
       "dtype: int64"
      ]
     },
     "execution_count": 5,
     "metadata": {},
     "output_type": "execute_result"
    }
   ],
   "source": [
    "#Cell No.5\n",
    "\n",
    "#Dropping some rows that have illogical data\n",
    "fiber.drop(fiber[fiber['GB_TOTAL_CONSUMPTION_Month1']>5000].index, inplace = True)\n",
    "fiber.drop(fiber[fiber['Disconnection_TOTAL_SUM_Month']>=1000].index, inplace = True)\n",
    "fiber.dropna(subset=[\"Disconnection_TOTAL_SUM_Month\"],inplace=True)\n",
    "fiber.isnull().sum()"
   ]
  },
  {
   "cell_type": "markdown",
   "metadata": {},
   "source": [
    "<h2><strong>Preparing data</h2></strong>‏"
   ]
  },
  {
   "cell_type": "code",
   "execution_count": 6,
   "metadata": {
    "execution": {
     "iopub.execute_input": "2023-01-03T06:06:07.895217Z",
     "iopub.status.busy": "2023-01-03T06:06:07.894887Z",
     "iopub.status.idle": "2023-01-03T06:06:07.906996Z",
     "shell.execute_reply": "2023-01-03T06:06:07.905870Z",
     "shell.execute_reply.started": "2023-01-03T06:06:07.895167Z"
    },
    "id": "L4mp8Tk3SW7F"
   },
   "outputs": [],
   "source": [
    "#Cell No.6\n",
    "\n",
    "#implement a function to find imbalance in our data\n",
    "def find_imbalanced(name,value1,value2):\n",
    "    fiber[name].value_counts()\n",
    "    churners= len(fiber[fiber[name] == value1])\n",
    "    not_churners = len(fiber[fiber[name] == value2])\n",
    "    class_distribution_ratio = churners/not_churners\n",
    "    return class_distribution_ratio"
   ]
  },
  {
   "cell_type": "code",
   "execution_count": 7,
   "metadata": {
    "colab": {
     "base_uri": "https://localhost:8080/"
    },
    "execution": {
     "iopub.execute_input": "2023-01-03T06:06:07.908848Z",
     "iopub.status.busy": "2023-01-03T06:06:07.908535Z",
     "iopub.status.idle": "2023-01-03T06:06:07.929498Z",
     "shell.execute_reply": "2023-01-03T06:06:07.928218Z",
     "shell.execute_reply.started": "2023-01-03T06:06:07.908802Z"
    },
    "id": "668PlKwGSW7F",
    "outputId": "9a9fcf05-16d2-4d9e-e7c5-18b1157fea11"
   },
   "outputs": [
    {
     "data": {
      "text/plain": [
       "0.005357047195585793"
      ]
     },
     "execution_count": 7,
     "metadata": {},
     "output_type": "execute_result"
    }
   ],
   "source": [
    "#Cell No.7\n",
    "\n",
    "find_imbalanced('TARGET',1,0)"
   ]
  },
  {
   "cell_type": "markdown",
   "metadata": {},
   "source": [
    "<h3><strong>Encoding part</h3></strong>‏"
   ]
  },
  {
   "cell_type": "code",
   "execution_count": 8,
   "metadata": {
    "id": "howjO2QBSW7G"
   },
   "outputs": [],
   "source": [
    "#Cell No.8\n",
    "\n",
    "#implement a function to convert categorical columns to numeric columns  \n",
    "def encodeing(encoder_,data,col):\n",
    "    label_encoder= encoder_\n",
    "    data[col]=label_encoder.fit_transform(data[col])\n",
    "    return data\n"
   ]
  },
  {
   "cell_type": "code",
   "execution_count": 9,
   "metadata": {
    "id": "UGPaEUK2SW7G"
   },
   "outputs": [],
   "source": [
    "#Cell No.9\n",
    "\n",
    "encoder =pd.get_dummies(fiber['GOVERNORATE'])\n",
    "data1=pd.concat([fiber,encoder],axis=1)\n",
    "data1=data1.drop(['GOVERNORATE'],axis=1)\n"
   ]
  },
  {
   "cell_type": "markdown",
   "metadata": {},
   "source": [
    "<h3><strong>Fixing imbalnce</h3></strong>‏"
   ]
  },
  {
   "cell_type": "code",
   "execution_count": 10,
   "metadata": {},
   "outputs": [],
   "source": [
    "#Cell No.10\n",
    "\n",
    "#spliting function \n",
    "def split(data,col):\n",
    "    X=data.drop(col,axis=1)\n",
    "    y=data[col]\n",
    "    X_train,X_test,y_train,y_test=train_test_split(X,y,test_size=0.25, stratify=y  ,random_state=42)\n",
    "    \n",
    "    return X_train,X_test,y_train,y_test\n",
    "X_train,X_test,y_train,y_test=split(data1,'TARGET') "
   ]
  },
  {
   "cell_type": "code",
   "execution_count": null,
   "metadata": {},
   "outputs": [],
   "source": []
  },
  {
   "cell_type": "code",
   "execution_count": 11,
   "metadata": {},
   "outputs": [],
   "source": [
    "#Cell No.11\n",
    "\n",
    "#imbalanced fix method  \n",
    "weights = compute_class_weight('balanced', classes=y_train.unique(), y=y_train)\n",
    "weights=dict(enumerate(weights))"
   ]
  },
  {
   "cell_type": "code",
   "execution_count": null,
   "metadata": {},
   "outputs": [],
   "source": []
  },
  {
   "cell_type": "markdown",
   "metadata": {},
   "source": [
    "<h3><strong>Feature selection</h3></strong>‏"
   ]
  },
  {
   "cell_type": "code",
   "execution_count": 12,
   "metadata": {
    "colab": {
     "base_uri": "https://localhost:8080/"
    },
    "id": "ZIZitVD9SW7H",
    "outputId": "f0ddcbff-d936-492c-f467-3c97443abb2c"
   },
   "outputs": [
    {
     "data": {
      "text/plain": [
       "Index(['Customer with orange_MONTHS', 'COMMITMENT_FG', 'OF_SPEED',\n",
       "       'OF_PREV_SPEED', 'MIGRATION_FLAG', 'Disconnection_TOTAL_SUM_Month',\n",
       "       'GB_TOTAL_CONSUMPTION_Month1', 'West Amman'],\n",
       "      dtype='object')"
      ]
     },
     "execution_count": 12,
     "metadata": {},
     "output_type": "execute_result"
    }
   ],
   "source": [
    "#Cell No.12\n",
    "\n",
    "#Choose best features using SelectKbest()\n",
    "sel_eight_cols = SelectKBest(chi2, k=8)\n",
    "new=sel_eight_cols.fit_transform(X_train, y_train)\n",
    "X_train.columns[sel_eight_cols.get_support()]"
   ]
  },
  {
   "cell_type": "markdown",
   "metadata": {},
   "source": [
    "<h1><strong>Modeling part</h1></strong>‏\n"
   ]
  },
  {
   "cell_type": "code",
   "execution_count": 13,
   "metadata": {
    "id": "28RCWfxNSW7H"
   },
   "outputs": [],
   "source": [
    "#Cell No.13\n",
    "\n",
    "# Running initial model\n",
    "def modeling(model):\n",
    "  modl= model \n",
    "  modl.fit(X_train,y_train) \n",
    "  ypred= modl.predict(X_test)\n",
    "  print('accuracy for test :',round(accuracy_score(y_test, ypred),2))\n",
    "  print('accuracy for train :',round(accuracy_score(y_train, modl.predict(X_train)),2))\n",
    "  return \n",
    "\n"
   ]
  },
  {
   "cell_type": "markdown",
   "metadata": {},
   "source": [
    "<h3><strong>Algorethim testing</h3></strong>‏"
   ]
  },
  {
   "cell_type": "code",
   "execution_count": 14,
   "metadata": {},
   "outputs": [
    {
     "name": "stdout",
     "output_type": "stream",
     "text": [
      "LogisiticRegression\n",
      "accuracy for test : 0.82\n",
      "accuracy for train : 0.82\n",
      "None\n",
      "RandomForestClassifier\n",
      "accuracy for test : 0.99\n",
      "accuracy for train : 1.0\n",
      "None\n"
     ]
    }
   ],
   "source": [
    "#Cell No.14\n",
    "\n",
    "#Test these algorethims using deafult Hyperparameter tuning \n",
    "classifiers = {\n",
    "    \"LogisiticRegression\": LogisticRegression(random_state=0,class_weight=weights),\n",
    "    \"RandomForestClassifier\": RandomForestClassifier(random_state=0,class_weight=weights)}\n",
    "\n",
    "for i,j in classifiers.items():\n",
    "    print(i)\n",
    "    print(modeling(j))"
   ]
  },
  {
   "cell_type": "markdown",
   "metadata": {},
   "source": [
    "<h3><strong>Hyperparameter selection</h3></strong>‏"
   ]
  },
  {
   "cell_type": "code",
   "execution_count": 15,
   "metadata": {
    "id": "W6rbXLU-SW7I"
   },
   "outputs": [],
   "source": [
    "#Cell No.15\n",
    "\n",
    "#set a parameter grid values for logistic regression and random forest \n",
    "parameters_clf = [{'solver': ['newton-cg', 'liblinear']},\n",
    "              {'penalty':[ 'elasticnet', 'l1']},\n",
    "              {'C':[0.001, 0.01, 0.1, 1, 10, 100]\n",
    "               ,'max_iter':[500,1000,1500]}]\n",
    "param_grid_random = { \n",
    "    'n_estimators': [50,100,150,200,250],\n",
    "    'max_features': ['auto', 'sqrt', 'log2'],\n",
    "    'max_depth' : [2,4,5,6,7,8],\n",
    "    'criterion' :['gini', 'entropy']}"
   ]
  },
  {
   "cell_type": "code",
   "execution_count": 16,
   "metadata": {
    "id": "bSKsv-GmSW7I"
   },
   "outputs": [],
   "source": [
    "#Cell No.16\n",
    "\n",
    "#set a function to get the parameters for each algorethims using grid search\n",
    "def grid_search(model,parameters,scoring):\n",
    "    grid=GridSearchCV(estimator=model, param_grid=parameters, cv= 5,n_jobs=-1,scoring=scoring)\n",
    "    grid.fit(X_train, y_train)\n",
    "    return grid.best_params_\n"
   ]
  },
  {
   "cell_type": "markdown",
   "metadata": {},
   "source": [
    "<h3><strong>Running Grid search to get best parameters for both algorethims</h3></strong>\n",
    "\n",
    "\n"
   ]
  },
  {
   "cell_type": "code",
   "execution_count": 17,
   "metadata": {
    "colab": {
     "base_uri": "https://localhost:8080/"
    },
    "id": "rm4FmCtSSW7J",
    "outputId": "0f2865d3-a453-4f7c-f092-20e7a8733ffc"
   },
   "outputs": [],
   "source": [
    "#Cell No.17\n",
    "\n",
    "grid_search(LogisticRegression(random_state=0,),parameters_clf,'f1')"
   ]
  },
  {
   "cell_type": "code",
   "execution_count": 18,
   "metadata": {},
   "outputs": [],
   "source": [
    "#Cell No.18\n",
    "\n",
    "grid_search(RandomForestClassifier(random_state=0), param_grid_random, 'f1')"
   ]
  },
  {
   "cell_type": "code",
   "execution_count": 19,
   "metadata": {
    "colab": {
     "base_uri": "https://localhost:8080/"
    },
    "id": "zVIq5gewSW7I",
    "outputId": "d497f8ef-1197-4fa2-a8a9-cede0708fac4"
   },
   "outputs": [
    {
     "name": "stdout",
     "output_type": "stream",
     "text": [
      "LogisiticRegression\n",
      "accuracy for test : 0.82\n",
      "accuracy for train : 0.82\n",
      "None\n",
      "RandomForestClassifier\n",
      "accuracy for test : 0.83\n",
      "accuracy for train : 0.83\n",
      "None\n"
     ]
    }
   ],
   "source": [
    "#Cell No.19\n",
    "\n",
    "#Comparing reasults between algorethims after using grid search\n",
    "classifiers = {\n",
    "    \"LogisiticRegression\": LogisticRegression(solver='newton-cg' ,class_weight=weights),\n",
    "    \"RandomForestClassifier\": RandomForestClassifier(criterion='gini', max_depth=6,max_features='auto',n_estimators=50,random_state=0,class_weight=weights)}\n",
    "\n",
    "#for loop to print the results from the modeling function\n",
    "for i,j in classifiers.items():\n",
    "    print(i)\n",
    "    print(modeling(j))\n"
   ]
  },
  {
   "cell_type": "markdown",
   "metadata": {},
   "source": [
    "<h3><strong>Final model</h3></strong>‏\n"
   ]
  },
  {
   "cell_type": "code",
   "execution_count": 20,
   "metadata": {
    "colab": {
     "base_uri": "https://localhost:8080/"
    },
    "id": "LvaeLK_CSW7J",
    "outputId": "14978742-1c92-4604-bdbc-16ed49a6cc8f"
   },
   "outputs": [
    {
     "data": {
      "text/plain": [
       "RandomForestClassifier(max_depth=6, random_state=0)"
      ]
     },
     "execution_count": 20,
     "metadata": {},
     "output_type": "execute_result"
    }
   ],
   "source": [
    "#Cell No.20\n",
    "\n",
    "#Best model we chose in our project\n",
    "model= RandomForestClassifier(criterion='gini', max_depth=6,max_features='auto',n_estimators=100,random_state=0)\n",
    "model.fit(X_train,y_train)"
   ]
  },
  {
   "cell_type": "markdown",
   "metadata": {},
   "source": [
    "<h3><strong>User interface</h3></strong>‏\n"
   ]
  },
  {
   "cell_type": "code",
   "execution_count": 21,
   "metadata": {
    "id": "uyxh3MJnSW7K"
   },
   "outputs": [],
   "source": [
    "#Cell No.21\n",
    "\n",
    "#Create a pickel file has the best model to use it in notebook (2)\n",
    "filename =\"trained_model.pkl\"\n",
    "pickle.dump(model,open(filename,\"wb\"))\n",
    "load_model=pickle.load(open(\"trained_model.pkl\",\"rb\"))\n",
    "predictions = load_model.predict(X_test)\n",
    "\n"
   ]
  }
 ],
 "metadata": {
  "colab": {
   "provenance": []
  },
  "kernelspec": {
   "display_name": "base",
   "language": "python",
   "name": "python3"
  },
  "language_info": {
   "codemirror_mode": {
    "name": "ipython",
    "version": 3
   },
   "file_extension": ".py",
   "mimetype": "text/x-python",
   "name": "python",
   "nbconvert_exporter": "python",
   "pygments_lexer": "ipython3",
   "version": "3.9.13"
  },
  "vscode": {
   "interpreter": {
    "hash": "cbca17504e483ddaa59964febbf897c75ffc5bdbbdd738ddccdffb7b98c93833"
   }
  }
 },
 "nbformat": 4,
 "nbformat_minor": 1
}
